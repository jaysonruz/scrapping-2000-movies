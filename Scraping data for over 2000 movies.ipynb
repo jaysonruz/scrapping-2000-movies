{
 "cells": [
  {
   "cell_type": "code",
   "execution_count": 2,
   "metadata": {},
   "outputs": [],
   "source": [
    "from bs4 import BeautifulSoup\n",
    "import requests\n",
    "import pandas as pd\n"
   ]
  },
  {
   "cell_type": "code",
   "execution_count": 3,
   "metadata": {},
   "outputs": [],
   "source": [
    "url='https://www.imdb.com/search/title?release_date=2017&sort=num_votes,desc&page=2&ref_=adv_nxt'\n",
    "page = requests.get(url)"
   ]
  },
  {
   "cell_type": "code",
   "execution_count": 4,
   "metadata": {},
   "outputs": [],
   "source": [
    "soup = BeautifulSoup(page.content,'html.parser')"
   ]
  },
  {
   "cell_type": "code",
   "execution_count": 41,
   "metadata": {},
   "outputs": [],
   "source": [
    "movie_containers = soup.findAll('div',class_='lister-item mode-advanced')"
   ]
  },
  {
   "cell_type": "code",
   "execution_count": 42,
   "metadata": {},
   "outputs": [
    {
     "data": {
      "text/plain": [
       "50"
      ]
     },
     "execution_count": 42,
     "metadata": {},
     "output_type": "execute_result"
    }
   ],
   "source": [
    "len(movie_containers) # number of movies "
   ]
  },
  {
   "cell_type": "markdown",
   "metadata": {},
   "source": [
    "# code for 1 movie"
   ]
  },
  {
   "cell_type": "code",
   "execution_count": 8,
   "metadata": {},
   "outputs": [],
   "source": [
    "first_movie = soup.find('div',class_='lister-item mode-advanced')"
   ]
  },
  {
   "cell_type": "code",
   "execution_count": 10,
   "metadata": {},
   "outputs": [
    {
     "data": {
      "text/plain": [
       "'Logan'"
      ]
     },
     "execution_count": 10,
     "metadata": {},
     "output_type": "execute_result"
    }
   ],
   "source": [
    "# name of the movie\n",
    "first_movie.h3.a.text "
   ]
  },
  {
   "cell_type": "code",
   "execution_count": 11,
   "metadata": {},
   "outputs": [
    {
     "data": {
      "text/plain": [
       "'Action, Drama, Sci-Fi'"
      ]
     },
     "execution_count": 11,
     "metadata": {},
     "output_type": "execute_result"
    }
   ],
   "source": [
    "#genre of the movie \n",
    "first_movie.find('span',class_=\"genre\").text.strip()"
   ]
  },
  {
   "cell_type": "code",
   "execution_count": 12,
   "metadata": {},
   "outputs": [
    {
     "data": {
      "text/plain": [
       "'(2017)'"
      ]
     },
     "execution_count": 12,
     "metadata": {},
     "output_type": "execute_result"
    }
   ],
   "source": [
    "# year of the movie\n",
    "first_movie.find('span', class_=\"lister-item-year text-muted unbold\").text.strip()"
   ]
  },
  {
   "cell_type": "code",
   "execution_count": 13,
   "metadata": {},
   "outputs": [
    {
     "data": {
      "text/plain": [
       "8.1"
      ]
     },
     "execution_count": 13,
     "metadata": {},
     "output_type": "execute_result"
    }
   ],
   "source": [
    "#rating\n",
    "float(first_movie.strong.text)"
   ]
  },
  {
   "cell_type": "code",
   "execution_count": 14,
   "metadata": {},
   "outputs": [
    {
     "data": {
      "text/plain": [
       "'77'"
      ]
     },
     "execution_count": 14,
     "metadata": {},
     "output_type": "execute_result"
    }
   ],
   "source": [
    "#metascore\n",
    "first_movie.find('span' ,class_=\"metascore favorable\").text.strip()"
   ]
  },
  {
   "cell_type": "code",
   "execution_count": 15,
   "metadata": {},
   "outputs": [
    {
     "data": {
      "text/plain": [
       "'547998'"
      ]
     },
     "execution_count": 15,
     "metadata": {},
     "output_type": "execute_result"
    }
   ],
   "source": [
    "#movie votes\n",
    "first_votes = first_movie.find('span', attrs = {'name':'nv'})\n",
    "first_votes\n",
    "first_votes['data-value']"
   ]
  },
  {
   "cell_type": "code",
   "execution_count": 16,
   "metadata": {},
   "outputs": [
    {
     "data": {
      "text/plain": [
       "547998"
      ]
     },
     "execution_count": 16,
     "metadata": {},
     "output_type": "execute_result"
    }
   ],
   "source": [
    "int(first_votes['data-value'])"
   ]
  },
  {
   "cell_type": "code",
   "execution_count": 37,
   "metadata": {},
   "outputs": [],
   "source": [
    "k=movie_container[22].find('div' ,class_=\"inline-block ratings-metascore\")"
   ]
  },
  {
   "cell_type": "code",
   "execution_count": 38,
   "metadata": {},
   "outputs": [
    {
     "data": {
      "text/plain": [
       "NoneType"
      ]
     },
     "execution_count": 38,
     "metadata": {},
     "output_type": "execute_result"
    }
   ],
   "source": [
    "type(k)"
   ]
  },
  {
   "cell_type": "markdown",
   "metadata": {},
   "source": [
    "# final code for 1 page "
   ]
  },
  {
   "cell_type": "code",
   "execution_count": 39,
   "metadata": {},
   "outputs": [],
   "source": [
    "# Lists to store the scraped data in\n",
    "names = []\n",
    "years = []\n",
    "imdb_ratings = []\n",
    "metascores = []\n",
    "votes = []"
   ]
  },
  {
   "cell_type": "code",
   "execution_count": 43,
   "metadata": {},
   "outputs": [],
   "source": [
    "# Extract data from individual movie container\n",
    "for container in movie_containers:\n",
    "    # If the movie has Metascore, then extract:\n",
    "    if container.find('div', class_ = 'ratings-metascore') is not None:\n",
    "        # The name\n",
    "        name = container.h3.a.text\n",
    "        names.append(name)\n",
    "        # The year\n",
    "        year = container.h3.find('span', class_ = 'lister-item-year').text\n",
    "        years.append(year)\n",
    "        # The IMDB rating\n",
    "        imdb = float(container.strong.text)\n",
    "        imdb_ratings.append(imdb)\n",
    "        # The Metascore\n",
    "        m_score = container.find('span', class_ = 'metascore').text\n",
    "        metascores.append(int(m_score))\n",
    "        # The number of votes\n",
    "        vote = container.find('span', attrs = {'name':'nv'})['data-value']\n",
    "        votes.append(int(vote))"
   ]
  },
  {
   "cell_type": "code",
   "execution_count": 44,
   "metadata": {},
   "outputs": [
    {
     "name": "stdout",
     "output_type": "stream",
     "text": [
      "<class 'pandas.core.frame.DataFrame'>\n",
      "RangeIndex: 45 entries, 0 to 44\n",
      "Data columns (total 5 columns):\n",
      "movie        45 non-null object\n",
      "year         45 non-null object\n",
      "imdb         45 non-null float64\n",
      "metascore    45 non-null int64\n",
      "votes        45 non-null int64\n",
      "dtypes: float64(1), int64(2), object(2)\n",
      "memory usage: 1.8+ KB\n",
      "None\n"
     ]
    },
    {
     "data": {
      "text/html": [
       "<div>\n",
       "<style scoped>\n",
       "    .dataframe tbody tr th:only-of-type {\n",
       "        vertical-align: middle;\n",
       "    }\n",
       "\n",
       "    .dataframe tbody tr th {\n",
       "        vertical-align: top;\n",
       "    }\n",
       "\n",
       "    .dataframe thead th {\n",
       "        text-align: right;\n",
       "    }\n",
       "</style>\n",
       "<table border=\"1\" class=\"dataframe\">\n",
       "  <thead>\n",
       "    <tr style=\"text-align: right;\">\n",
       "      <th></th>\n",
       "      <th>movie</th>\n",
       "      <th>year</th>\n",
       "      <th>imdb</th>\n",
       "      <th>metascore</th>\n",
       "      <th>votes</th>\n",
       "    </tr>\n",
       "  </thead>\n",
       "  <tbody>\n",
       "    <tr>\n",
       "      <th>0</th>\n",
       "      <td>Logan</td>\n",
       "      <td>(2017)</td>\n",
       "      <td>8.1</td>\n",
       "      <td>77</td>\n",
       "      <td>547998</td>\n",
       "    </tr>\n",
       "    <tr>\n",
       "      <th>1</th>\n",
       "      <td>Wonder Woman</td>\n",
       "      <td>(2017)</td>\n",
       "      <td>7.5</td>\n",
       "      <td>76</td>\n",
       "      <td>478221</td>\n",
       "    </tr>\n",
       "    <tr>\n",
       "      <th>2</th>\n",
       "      <td>Guardians of the Galaxy Vol. 2</td>\n",
       "      <td>(2017)</td>\n",
       "      <td>7.7</td>\n",
       "      <td>67</td>\n",
       "      <td>464225</td>\n",
       "    </tr>\n",
       "    <tr>\n",
       "      <th>3</th>\n",
       "      <td>Dunkirk</td>\n",
       "      <td>(2017)</td>\n",
       "      <td>7.9</td>\n",
       "      <td>94</td>\n",
       "      <td>458734</td>\n",
       "    </tr>\n",
       "    <tr>\n",
       "      <th>4</th>\n",
       "      <td>Thor: Ragnarok</td>\n",
       "      <td>(2017)</td>\n",
       "      <td>7.9</td>\n",
       "      <td>74</td>\n",
       "      <td>456163</td>\n",
       "    </tr>\n",
       "    <tr>\n",
       "      <th>5</th>\n",
       "      <td>Star Wars: Episode VIII - The Last Jedi</td>\n",
       "      <td>(2017)</td>\n",
       "      <td>7.2</td>\n",
       "      <td>85</td>\n",
       "      <td>454936</td>\n",
       "    </tr>\n",
       "    <tr>\n",
       "      <th>6</th>\n",
       "      <td>Spider-Man: Homecoming</td>\n",
       "      <td>(2017)</td>\n",
       "      <td>7.5</td>\n",
       "      <td>73</td>\n",
       "      <td>407879</td>\n",
       "    </tr>\n",
       "    <tr>\n",
       "      <th>7</th>\n",
       "      <td>Get Out</td>\n",
       "      <td>(I) (2017)</td>\n",
       "      <td>7.7</td>\n",
       "      <td>84</td>\n",
       "      <td>389048</td>\n",
       "    </tr>\n",
       "    <tr>\n",
       "      <th>8</th>\n",
       "      <td>Blade Runner 2049</td>\n",
       "      <td>(2017)</td>\n",
       "      <td>8.0</td>\n",
       "      <td>81</td>\n",
       "      <td>370519</td>\n",
       "    </tr>\n",
       "    <tr>\n",
       "      <th>9</th>\n",
       "      <td>Baby Driver</td>\n",
       "      <td>(2017)</td>\n",
       "      <td>7.6</td>\n",
       "      <td>86</td>\n",
       "      <td>355399</td>\n",
       "    </tr>\n",
       "    <tr>\n",
       "      <th>10</th>\n",
       "      <td>It</td>\n",
       "      <td>(I) (2017)</td>\n",
       "      <td>7.4</td>\n",
       "      <td>69</td>\n",
       "      <td>348603</td>\n",
       "    </tr>\n",
       "    <tr>\n",
       "      <th>11</th>\n",
       "      <td>Three Billboards Outside Ebbing, Missouri</td>\n",
       "      <td>(2017)</td>\n",
       "      <td>8.2</td>\n",
       "      <td>88</td>\n",
       "      <td>335383</td>\n",
       "    </tr>\n",
       "    <tr>\n",
       "      <th>12</th>\n",
       "      <td>Justice League</td>\n",
       "      <td>(2017)</td>\n",
       "      <td>6.5</td>\n",
       "      <td>45</td>\n",
       "      <td>322847</td>\n",
       "    </tr>\n",
       "    <tr>\n",
       "      <th>13</th>\n",
       "      <td>The Shape of Water</td>\n",
       "      <td>(2017)</td>\n",
       "      <td>7.3</td>\n",
       "      <td>87</td>\n",
       "      <td>301420</td>\n",
       "    </tr>\n",
       "    <tr>\n",
       "      <th>14</th>\n",
       "      <td>John Wick: Chapter 2</td>\n",
       "      <td>(2017)</td>\n",
       "      <td>7.5</td>\n",
       "      <td>75</td>\n",
       "      <td>268620</td>\n",
       "    </tr>\n",
       "    <tr>\n",
       "      <th>15</th>\n",
       "      <td>Coco</td>\n",
       "      <td>(I) (2017)</td>\n",
       "      <td>8.4</td>\n",
       "      <td>81</td>\n",
       "      <td>267566</td>\n",
       "    </tr>\n",
       "    <tr>\n",
       "      <th>16</th>\n",
       "      <td>Jumanji: Welcome to the Jungle</td>\n",
       "      <td>(2017)</td>\n",
       "      <td>7.0</td>\n",
       "      <td>58</td>\n",
       "      <td>237417</td>\n",
       "    </tr>\n",
       "    <tr>\n",
       "      <th>17</th>\n",
       "      <td>Beauty and the Beast</td>\n",
       "      <td>(2017)</td>\n",
       "      <td>7.2</td>\n",
       "      <td>65</td>\n",
       "      <td>234487</td>\n",
       "    </tr>\n",
       "    <tr>\n",
       "      <th>18</th>\n",
       "      <td>Kong: Skull Island</td>\n",
       "      <td>(2017)</td>\n",
       "      <td>6.6</td>\n",
       "      <td>62</td>\n",
       "      <td>232462</td>\n",
       "    </tr>\n",
       "    <tr>\n",
       "      <th>19</th>\n",
       "      <td>Kingsman: The Golden Circle</td>\n",
       "      <td>(2017)</td>\n",
       "      <td>6.8</td>\n",
       "      <td>44</td>\n",
       "      <td>225838</td>\n",
       "    </tr>\n",
       "    <tr>\n",
       "      <th>20</th>\n",
       "      <td>Pirates of the Caribbean: Dead Men Tell No Tales</td>\n",
       "      <td>(2017)</td>\n",
       "      <td>6.6</td>\n",
       "      <td>39</td>\n",
       "      <td>224588</td>\n",
       "    </tr>\n",
       "    <tr>\n",
       "      <th>21</th>\n",
       "      <td>Alien: Covenant</td>\n",
       "      <td>(2017)</td>\n",
       "      <td>6.4</td>\n",
       "      <td>65</td>\n",
       "      <td>223781</td>\n",
       "    </tr>\n",
       "    <tr>\n",
       "      <th>22</th>\n",
       "      <td>War for the Planet of the Apes</td>\n",
       "      <td>(2017)</td>\n",
       "      <td>7.5</td>\n",
       "      <td>82</td>\n",
       "      <td>198599</td>\n",
       "    </tr>\n",
       "    <tr>\n",
       "      <th>23</th>\n",
       "      <td>The Greatest Showman</td>\n",
       "      <td>(2017)</td>\n",
       "      <td>7.6</td>\n",
       "      <td>48</td>\n",
       "      <td>195963</td>\n",
       "    </tr>\n",
       "    <tr>\n",
       "      <th>24</th>\n",
       "      <td>Life</td>\n",
       "      <td>(I) (2017)</td>\n",
       "      <td>6.6</td>\n",
       "      <td>54</td>\n",
       "      <td>180590</td>\n",
       "    </tr>\n",
       "    <tr>\n",
       "      <th>25</th>\n",
       "      <td>The Fate of the Furious</td>\n",
       "      <td>(2017)</td>\n",
       "      <td>6.7</td>\n",
       "      <td>56</td>\n",
       "      <td>177253</td>\n",
       "    </tr>\n",
       "    <tr>\n",
       "      <th>26</th>\n",
       "      <td>Murder on the Orient Express</td>\n",
       "      <td>(2017)</td>\n",
       "      <td>6.5</td>\n",
       "      <td>52</td>\n",
       "      <td>175977</td>\n",
       "    </tr>\n",
       "    <tr>\n",
       "      <th>27</th>\n",
       "      <td>Ghost in the Shell</td>\n",
       "      <td>(2017)</td>\n",
       "      <td>6.4</td>\n",
       "      <td>52</td>\n",
       "      <td>174014</td>\n",
       "    </tr>\n",
       "    <tr>\n",
       "      <th>28</th>\n",
       "      <td>Lady Bird</td>\n",
       "      <td>(2017)</td>\n",
       "      <td>7.4</td>\n",
       "      <td>94</td>\n",
       "      <td>173911</td>\n",
       "    </tr>\n",
       "    <tr>\n",
       "      <th>29</th>\n",
       "      <td>King Arthur: Legend of the Sword</td>\n",
       "      <td>(2017)</td>\n",
       "      <td>6.8</td>\n",
       "      <td>41</td>\n",
       "      <td>166593</td>\n",
       "    </tr>\n",
       "    <tr>\n",
       "      <th>30</th>\n",
       "      <td>Wind River</td>\n",
       "      <td>(2017)</td>\n",
       "      <td>7.7</td>\n",
       "      <td>73</td>\n",
       "      <td>165805</td>\n",
       "    </tr>\n",
       "    <tr>\n",
       "      <th>31</th>\n",
       "      <td>The Hitman's Bodyguard</td>\n",
       "      <td>(2017)</td>\n",
       "      <td>6.9</td>\n",
       "      <td>47</td>\n",
       "      <td>159127</td>\n",
       "    </tr>\n",
       "    <tr>\n",
       "      <th>32</th>\n",
       "      <td>Mother!</td>\n",
       "      <td>(2017)</td>\n",
       "      <td>6.6</td>\n",
       "      <td>75</td>\n",
       "      <td>153182</td>\n",
       "    </tr>\n",
       "    <tr>\n",
       "      <th>33</th>\n",
       "      <td>The Mummy</td>\n",
       "      <td>(2017)</td>\n",
       "      <td>5.5</td>\n",
       "      <td>34</td>\n",
       "      <td>151857</td>\n",
       "    </tr>\n",
       "    <tr>\n",
       "      <th>34</th>\n",
       "      <td>Call Me by Your Name</td>\n",
       "      <td>(2017)</td>\n",
       "      <td>7.9</td>\n",
       "      <td>93</td>\n",
       "      <td>150213</td>\n",
       "    </tr>\n",
       "    <tr>\n",
       "      <th>35</th>\n",
       "      <td>Atomic Blonde</td>\n",
       "      <td>(2017)</td>\n",
       "      <td>6.7</td>\n",
       "      <td>63</td>\n",
       "      <td>147395</td>\n",
       "    </tr>\n",
       "    <tr>\n",
       "      <th>36</th>\n",
       "      <td>Bright</td>\n",
       "      <td>(I) (2017)</td>\n",
       "      <td>6.4</td>\n",
       "      <td>29</td>\n",
       "      <td>146077</td>\n",
       "    </tr>\n",
       "    <tr>\n",
       "      <th>37</th>\n",
       "      <td>I, Tonya</td>\n",
       "      <td>(2017)</td>\n",
       "      <td>7.5</td>\n",
       "      <td>77</td>\n",
       "      <td>138105</td>\n",
       "    </tr>\n",
       "    <tr>\n",
       "      <th>38</th>\n",
       "      <td>Valerian and the City of a Thousand Planets</td>\n",
       "      <td>(2017)</td>\n",
       "      <td>6.5</td>\n",
       "      <td>51</td>\n",
       "      <td>137703</td>\n",
       "    </tr>\n",
       "    <tr>\n",
       "      <th>39</th>\n",
       "      <td>Darkest Hour</td>\n",
       "      <td>(2017)</td>\n",
       "      <td>7.4</td>\n",
       "      <td>75</td>\n",
       "      <td>134014</td>\n",
       "    </tr>\n",
       "    <tr>\n",
       "      <th>40</th>\n",
       "      <td>Baywatch</td>\n",
       "      <td>(2017)</td>\n",
       "      <td>5.6</td>\n",
       "      <td>37</td>\n",
       "      <td>133080</td>\n",
       "    </tr>\n",
       "    <tr>\n",
       "      <th>41</th>\n",
       "      <td>American Made</td>\n",
       "      <td>(2017)</td>\n",
       "      <td>7.2</td>\n",
       "      <td>65</td>\n",
       "      <td>128365</td>\n",
       "    </tr>\n",
       "    <tr>\n",
       "      <th>42</th>\n",
       "      <td>Transformers: The Last Knight</td>\n",
       "      <td>(2017)</td>\n",
       "      <td>5.2</td>\n",
       "      <td>27</td>\n",
       "      <td>116750</td>\n",
       "    </tr>\n",
       "    <tr>\n",
       "      <th>43</th>\n",
       "      <td>The Lego Batman Movie</td>\n",
       "      <td>(2017)</td>\n",
       "      <td>7.3</td>\n",
       "      <td>75</td>\n",
       "      <td>114617</td>\n",
       "    </tr>\n",
       "    <tr>\n",
       "      <th>44</th>\n",
       "      <td>The Disaster Artist</td>\n",
       "      <td>(2017)</td>\n",
       "      <td>7.4</td>\n",
       "      <td>76</td>\n",
       "      <td>109717</td>\n",
       "    </tr>\n",
       "  </tbody>\n",
       "</table>\n",
       "</div>"
      ],
      "text/plain": [
       "                                               movie        year  imdb  \\\n",
       "0                                              Logan      (2017)   8.1   \n",
       "1                                       Wonder Woman      (2017)   7.5   \n",
       "2                     Guardians of the Galaxy Vol. 2      (2017)   7.7   \n",
       "3                                            Dunkirk      (2017)   7.9   \n",
       "4                                     Thor: Ragnarok      (2017)   7.9   \n",
       "5            Star Wars: Episode VIII - The Last Jedi      (2017)   7.2   \n",
       "6                             Spider-Man: Homecoming      (2017)   7.5   \n",
       "7                                            Get Out  (I) (2017)   7.7   \n",
       "8                                  Blade Runner 2049      (2017)   8.0   \n",
       "9                                        Baby Driver      (2017)   7.6   \n",
       "10                                                It  (I) (2017)   7.4   \n",
       "11         Three Billboards Outside Ebbing, Missouri      (2017)   8.2   \n",
       "12                                    Justice League      (2017)   6.5   \n",
       "13                                The Shape of Water      (2017)   7.3   \n",
       "14                              John Wick: Chapter 2      (2017)   7.5   \n",
       "15                                              Coco  (I) (2017)   8.4   \n",
       "16                    Jumanji: Welcome to the Jungle      (2017)   7.0   \n",
       "17                              Beauty and the Beast      (2017)   7.2   \n",
       "18                                Kong: Skull Island      (2017)   6.6   \n",
       "19                       Kingsman: The Golden Circle      (2017)   6.8   \n",
       "20  Pirates of the Caribbean: Dead Men Tell No Tales      (2017)   6.6   \n",
       "21                                   Alien: Covenant      (2017)   6.4   \n",
       "22                    War for the Planet of the Apes      (2017)   7.5   \n",
       "23                              The Greatest Showman      (2017)   7.6   \n",
       "24                                              Life  (I) (2017)   6.6   \n",
       "25                           The Fate of the Furious      (2017)   6.7   \n",
       "26                      Murder on the Orient Express      (2017)   6.5   \n",
       "27                                Ghost in the Shell      (2017)   6.4   \n",
       "28                                         Lady Bird      (2017)   7.4   \n",
       "29                  King Arthur: Legend of the Sword      (2017)   6.8   \n",
       "30                                        Wind River      (2017)   7.7   \n",
       "31                            The Hitman's Bodyguard      (2017)   6.9   \n",
       "32                                           Mother!      (2017)   6.6   \n",
       "33                                         The Mummy      (2017)   5.5   \n",
       "34                              Call Me by Your Name      (2017)   7.9   \n",
       "35                                     Atomic Blonde      (2017)   6.7   \n",
       "36                                            Bright  (I) (2017)   6.4   \n",
       "37                                          I, Tonya      (2017)   7.5   \n",
       "38       Valerian and the City of a Thousand Planets      (2017)   6.5   \n",
       "39                                      Darkest Hour      (2017)   7.4   \n",
       "40                                          Baywatch      (2017)   5.6   \n",
       "41                                     American Made      (2017)   7.2   \n",
       "42                     Transformers: The Last Knight      (2017)   5.2   \n",
       "43                             The Lego Batman Movie      (2017)   7.3   \n",
       "44                               The Disaster Artist      (2017)   7.4   \n",
       "\n",
       "    metascore   votes  \n",
       "0          77  547998  \n",
       "1          76  478221  \n",
       "2          67  464225  \n",
       "3          94  458734  \n",
       "4          74  456163  \n",
       "5          85  454936  \n",
       "6          73  407879  \n",
       "7          84  389048  \n",
       "8          81  370519  \n",
       "9          86  355399  \n",
       "10         69  348603  \n",
       "11         88  335383  \n",
       "12         45  322847  \n",
       "13         87  301420  \n",
       "14         75  268620  \n",
       "15         81  267566  \n",
       "16         58  237417  \n",
       "17         65  234487  \n",
       "18         62  232462  \n",
       "19         44  225838  \n",
       "20         39  224588  \n",
       "21         65  223781  \n",
       "22         82  198599  \n",
       "23         48  195963  \n",
       "24         54  180590  \n",
       "25         56  177253  \n",
       "26         52  175977  \n",
       "27         52  174014  \n",
       "28         94  173911  \n",
       "29         41  166593  \n",
       "30         73  165805  \n",
       "31         47  159127  \n",
       "32         75  153182  \n",
       "33         34  151857  \n",
       "34         93  150213  \n",
       "35         63  147395  \n",
       "36         29  146077  \n",
       "37         77  138105  \n",
       "38         51  137703  \n",
       "39         75  134014  \n",
       "40         37  133080  \n",
       "41         65  128365  \n",
       "42         27  116750  \n",
       "43         75  114617  \n",
       "44         76  109717  "
      ]
     },
     "execution_count": 44,
     "metadata": {},
     "output_type": "execute_result"
    }
   ],
   "source": [
    "import pandas as pd\n",
    "test_df = pd.DataFrame({'movie': names,\n",
    "                       'year': years,\n",
    "                       'imdb': imdb_ratings,\n",
    "                       'metascore': metascores,\n",
    "                       'votes': votes\n",
    "})\n",
    "print(test_df.info())\n",
    "test_df"
   ]
  },
  {
   "cell_type": "markdown",
   "metadata": {},
   "source": [
    "# eda for 1 page"
   ]
  },
  {
   "cell_type": "code",
   "execution_count": 45,
   "metadata": {},
   "outputs": [],
   "source": [
    "import matplotlib.pyplot as plt \n"
   ]
  },
  {
   "cell_type": "code",
   "execution_count": 47,
   "metadata": {},
   "outputs": [
    {
     "data": {
      "text/plain": [
       "Text(0.5,0,'votes')"
      ]
     },
     "execution_count": 47,
     "metadata": {},
     "output_type": "execute_result"
    },
    {
     "data": {
      "image/png": "[encoded data removed]",
      "text/plain": [
       "<Figure size 432x288 with 1 Axes>"
      ]
     },
     "metadata": {
      "needs_background": "light"
     },
     "output_type": "display_data"
    }
   ],
   "source": [
    "plt.hist(test_df.votes)\n",
    "plt.xlabel('votes')"
   ]
  },
  {
   "cell_type": "code",
   "execution_count": 72,
   "metadata": {},
   "outputs": [
    {
     "data": {
      "text/plain": [
       "Text(0.5,0,'imdb-rating')"
      ]
     },
     "execution_count": 72,
     "metadata": {},
     "output_type": "execute_result"
    },
    {
     "data": {
      "image/png": "[encoded data removed]",
      "text/plain": [
       "<Figure size 432x288 with 1 Axes>"
      ]
     },
     "metadata": {
      "needs_background": "light"
     },
     "output_type": "display_data"
    }
   ],
   "source": [
    "plt.hist(test_df.imdb)\n",
    "plt.xlabel('imdb-rating')"
   ]
  },
  {
   "cell_type": "code",
   "execution_count": 71,
   "metadata": {},
   "outputs": [
    {
     "data": {
      "text/plain": [
       "Text(0,0.5,'votes')"
      ]
     },
     "execution_count": 71,
     "metadata": {},
     "output_type": "execute_result"
    },
    {
     "data": {
      "image/png": "[encoded data removed]",
      "text/plain": [
       "<Figure size 432x288 with 1 Axes>"
      ]
     },
     "metadata": {
      "needs_background": "light"
     },
     "output_type": "display_data"
    }
   ],
   "source": [
    "# looking if there is trend between rating and votes\n",
    "plt.scatter(test_df.imdb.apply(lambda x:(x-min(test_df.imdb))/(max(test_df.imdb)-min(test_df.imdb))),test_df.votes.apply(lambda x:(x-min(test_df.votes))/(max(test_df.votes)-min(test_df.votes))))\n",
    "plt.xlabel('imdb-rating')\n",
    "plt.ylabel('votes')"
   ]
  },
  {
   "cell_type": "code",
   "execution_count": 74,
   "metadata": {},
   "outputs": [
    {
     "data": {
      "text/plain": [
       "<matplotlib.collections.PathCollection at 0x20063e58048>"
      ]
     },
     "execution_count": 74,
     "metadata": {},
     "output_type": "execute_result"
    },
    {
     "data": {
      "image/png": "[encoded data removed]",
      "text/plain": [
       "<Figure size 432x288 with 1 Axes>"
      ]
     },
     "metadata": {
      "needs_background": "light"
     },
     "output_type": "display_data"
    }
   ],
   "source": [
    "plt.scatter(test_df.imdb,test_df.votes)"
   ]
  },
  {
   "cell_type": "code",
   "execution_count": 76,
   "metadata": {},
   "outputs": [
    {
     "data": {
      "text/plain": [
       "count    45.000000\n",
       "mean      7.117778\n",
       "std       0.706878\n",
       "min       5.200000\n",
       "25%       6.600000\n",
       "50%       7.300000\n",
       "75%       7.600000\n",
       "max       8.400000\n",
       "Name: imdb, dtype: float64"
      ]
     },
     "execution_count": 76,
     "metadata": {},
     "output_type": "execute_result"
    }
   ],
   "source": [
    "test_df.imdb.describe()"
   ]
  },
  {
   "cell_type": "code",
   "execution_count": 78,
   "metadata": {},
   "outputs": [
    {
     "data": {
      "text/plain": [
       "15    8.4\n",
       "Name: imdb, dtype: float64"
      ]
     },
     "execution_count": 78,
     "metadata": {},
     "output_type": "execute_result"
    }
   ],
   "source": [
    "test_df.imdb[test_df.imdb == 8.4]# movie with the highest imdb rating"
   ]
  },
  {
   "cell_type": "code",
   "execution_count": 81,
   "metadata": {},
   "outputs": [
    {
     "data": {
      "text/plain": [
       "movie              Coco\n",
       "year         (I) (2017)\n",
       "imdb                8.4\n",
       "metascore            81\n",
       "votes            267566\n",
       "Name: 15, dtype: object"
      ]
     },
     "execution_count": 81,
     "metadata": {},
     "output_type": "execute_result"
    }
   ],
   "source": [
    "test_df.iloc[15]                                                                                                                                                                                                                                                                                                                                                                                                                                                                                                                                                                                                                                                                                                                                                                                                                                                                                                                                                                                                                                                                                                                                                                                                                                                                                                                                                                                                                                                                                                                                                                                                                                                                                                                                                                                                                                                                                                                                                                                                                                                                                                                                                                                                                                                                                                                                                                                                                                                                                                                                                                                                                                                                                                                                                                                                                                                                                                                                                                                                                                                                                                                                                                                                                                                                                                                                                                                                                                                                                                                                                                                                                                                                                                                                                                                                                                                                                                                                                                                                                                                                                                                                                                                                                                                                                                                                                                                                                                                                                                                                                                                                                                                                                                                                                                                                                                                                                                                                                                                                                                                                                                                                                                                                                                                                                                                                                                                                                                                                                                                                                                                                                                                                                                                                                                                                                                                                                                                                                                                                                                                                                                                                                                                                                                                                                                                                                                                                                                                                                                                                                                                                                                                                                                                                                                                                                                                                                                                                                                                                                                                                                                                                                                                                                                                                                                                                                                                                                                                                                                                                                                                                                                                                                                                                                                                                                                                                                                                                                                                                                                                                                                                                                                                                                                                                                                                                                                                                                                                                                                                                                                                                                                                                                                                                                                                                                                                                                                                                                                                                                                                                                                                                                                                                                                                                                                                                                                                                                                                                                                                                                                                                                                                                                                                                                                                                                                                                                                                                                                                                                                                                                                                                                                                                                                                                                                                                                                                                                                                                                                                                                                                                                                                                                                                                                                                                                                                                                                                                                                                                                                                                                                                                                                                                                                                                                                                                                                                                                                                                                                                                                                                                                                                                                                                                                                                                                                                                                                                                                                                                                                                                                                                                                                                                                                                                                                                                                                                                                                                                                                                                                                                                                                                                                                                                                                                                                                                                                                                                                                                                                                                                                                                                                                                                                                                                                                                                                                                                                                                                                                                                                                                                                                                                                                                                                                                                                                                                                                                                                                                                                                                                                                                                                                                                                                                                                                                                                                                                                                                                                                                                                                                                                                                                                                                                                                                                                                                                                                                                                                                                                                                                                                                                                                                                                                                                                                                                                                                                                                                                                                                                                                                                                                                                                                                                                                                                                                                                                                                                                                                                                                                                                                                                                                                                                                                                                                                                                                                                                                                                                                                                                                                                                                                                                                                                                                                                                                                                                                                                                                                                                                                                                                                                                                                                                                                                                                                                                                                                                                                                                                                                                                                                                                                                                                                                                                                                                                                                                                                                                                                                                                                                                                                                                                                                                                                                                                                                                                                                                                                                                                                                                                                                                                                                                                                                                                                                                                                                                                                                                                                                                                                                                                                                                                                                                                                                                                                                                                                                                                                                                                                                                                                                                                                                                                                                                                                                                                                                                                                                                                                                                                                                                                                                                                                                                                                                                                                                                                                                                                                                                                                                                                                                                                                                                                                                                                                                                                                                                                                                                                                                                                                                                                                                                                                                                                                                                                                                                                                                                                                                                                                                                                                                                                                                                                                                                                                                                                                                                                                                                                                                                                                                                                                                                                                                                                                                                                                                                                                                                                                                                                                                                                                                                                                                                                                                                                                                                                                                                                                                                                                                                                                                                                                                                                                                                                                                                                                                                                                                                                                                                                                                                                                                                                                                                                                                                                                                                                                                                                                                                                                                                                                                                                                                                                                                                                                                                                                                                                                                                                                                                                                                                                                                                                                                                                                                                                                                                                                                                                                                                                                                                                                                                                                                                                                                                                                                                                                                                                                                                                                                                                                                                                                                                                                                                                                                                                                                                                                                                                                                                                                                                                                                                                                                                                                                                                                                                                                                                                                                                                                                                                                                                                                                                                                                                                                                                                                                                                                                                                                                                                                                                                                                                                                                                                                                                                                                                                                                                                                                                                                                                                                                                                                                                                                                                                                                                                                                                                                                                                                                                                                                                                                                                                                                                                                                                                                                                                                                                                                                                                                                                                                                                                                                                                                                                                                                                                                                                                                                                                                                                                                                                                                                                                                                                                                                                                                                                                                                                                                                                                                                                                                                                                                                                                                                                                                                                                                                                                                                                                                                                                                                                                                                                                                                                                                                                                                                                                                                                                                                                                                                                                                                                                                                                                                                                                                                                                                                                                                                                                                                                                                                                                                                                                                                                                                                                                                                                                                                                                                                                                                                                                                                                                                                                                                                                                                                                                                                                                                                                                                                                                                                                                                                                                                                                                                                                                                                                                                                                                                                                                                                                                                                                                                                                                                                                                                                                                                                                                                                                                                                                                                                                                                                                                                                                                                                                                                                                                                                                                                                                                                                                                                                                                                                                                                                                                                                                                                                                                                                                                                                                                                                                                                                                                                                                                                                                                                                                                                                                                                                                                                                                                                                                                                                                                                                                                                                                                                                                                                                                                                                                                                                                                                                                                                                                                                                                                                                                                                                                                                                                                                                                                                                                                                                                                                                                                                                                                                                                                                                                                                                                                                                                                                                                                                                                                                                                                                                                                                                                                                                                                                                                                                                                                                                                                                                                                                                                                                                                                                                                                                                                                                                                                                                                                                                                                                                                                                                                                                                                                                                                                                                                                                                                                                                                                                                                                                                                                                                                                                                                                                                                                                                                                                                                                                                                                                                                                                                                                                                                                                                                                                                                                                                                                                                                                                                                                                                                                                                                                                                                                                                                                                                                                                                                                                                                                                                                                                                                                                                                                                                                                                                                                                                                                                                                                                                                                                                                                                                                                                                                                                                                                                                                                                                                                                                                                                                                                                                                                                                                                                                                                                                                                                                                                                                                                                                                                                                                                                                                                                                                                                                                                                                                                                                                                                                                                                                                                                                                                                                                                                                                                                                                                                                                                                                                                                                                                                                                                                                                                                                                                                                                                                                                                                                                                                                                                                                                                                                                                                                                                                                                                                                                                                                                                                                                                                                                                                                                                                                                                                                                                                                                                                                                                                                                                                                                                                                                                                                                                                                                                                                                                                                                                                                                                                                                                                                                                                                                                                                                                                                                                                                                                                                                                                                                                                                                                                                                                                                                                                                                                                                                                                                       "
   ]
  },
  {
   "cell_type": "code",
   "execution_count": 73,
   "metadata": {},
   "outputs": [],
   "source": [
    "# (x-min(test_df.votes))/(max(test_df.votes)-min(test_df.votes))         # normalization"
   ]
  },
  {
   "cell_type": "markdown",
   "metadata": {},
   "source": [
    "# The script for multiple pages"
   ]
  },
  {
   "cell_type": "markdown",
   "metadata": {},
   "source": [
    "## Controlling the crawl-rate"
   ]
  },
  {
   "attachments": {
    "image.png": {
     "image/png": "[encoded data removed]"
    }
   },
   "cell_type": "markdown",
   "metadata": {},
   "source": [
    "![image.png](attachment:image.png)"
   ]
  },
  {
   "cell_type": "markdown",
   "metadata": {},
   "source": [
    "### Monitoring the loop "
   ]
  },
  {
   "cell_type": "code",
   "execution_count": 87,
   "metadata": {},
   "outputs": [],
   "source": [
    "from time import sleep\n",
    "from random import randint"
   ]
  },
  {
   "cell_type": "code",
   "execution_count": 91,
   "metadata": {},
   "outputs": [
    {
     "name": "stdout",
     "output_type": "stream",
     "text": [
      "Request: 5; Frequency: 0.6245660444271631 requests/s\n"
     ]
    }
   ],
   "source": [
    "from IPython.core.display import clear_output\n",
    "from time import time\n",
    "start_time = time()\n",
    "requests = 0\n",
    "for _ in range(5):\n",
    "    # A request would go here\n",
    "    requests += 1\n",
    "    sleep(randint(1,3))\n",
    "    elapsed_time = time() - start_time\n",
    "    print('Request: {}; Frequency: {} requests/s'.format(requests, requests/elapsed_time))\n",
    "    clear_output(wait = True)"
   ]
  },
  {
   "cell_type": "markdown",
   "metadata": {},
   "source": [
    "# final code"
   ]
  },
  {
   "cell_type": "code",
   "execution_count": 96,
   "metadata": {},
   "outputs": [],
   "source": [
    "headers = {\"Accept-Language\": \"en-US, en;q=0.5\"} # english"
   ]
  },
  {
   "cell_type": "code",
   "execution_count": 97,
   "metadata": {},
   "outputs": [],
   "source": [
    "from requests import get"
   ]
  },
  {
   "cell_type": "code",
   "execution_count": 98,
   "metadata": {
    "code_folding": []
   },
   "outputs": [
    {
     "name": "stdout",
     "output_type": "stream",
     "text": [
      "Request:72; Frequency: 0.07300260420515346 requests/s\n"
     ]
    }
   ],
   "source": [
    "pages = [str(i) for i in range(1,5)]\n",
    "years_url = [str(i) for i in range(2000,2018)]\n",
    "\n",
    "# Redeclaring the lists to store data in\n",
    "names = []\n",
    "years = []\n",
    "imdb_ratings = []\n",
    "metascores = []\n",
    "votes = []\n",
    "\n",
    "# Preparing the monitoring of the loop\n",
    "start_time = time()\n",
    "requests = 0\n",
    "\n",
    "# For every year in the interval 2000-2017\n",
    "for year_url in years_url:\n",
    "\n",
    "    # For every page in the interval 1-4\n",
    "    for page in pages:\n",
    "\n",
    "        # Make a get request\n",
    "        response = get('http://www.imdb.com/search/title?release_date=' + year_url +\n",
    "        '&sort=num_votes,desc&page=' + page, headers = headers)\n",
    "\n",
    "        # Pause the loop\n",
    "        sleep(randint(8,15))\n",
    "\n",
    "        # Monitor the requests\n",
    "        requests += 1\n",
    "        elapsed_time = time() - start_time\n",
    "        print('Request:{}; Frequency: {} requests/s'.format(requests, requests/elapsed_time))\n",
    "        clear_output(wait = True)\n",
    "\n",
    "        # Throw a warning for non-200 status codes\n",
    "        if response.status_code != 200:\n",
    "            warn('Request: {}; Status code: {}'.format(requests, response.status_code))\n",
    "\n",
    "        # Break the loop if the number of requests is greater than expected\n",
    "        if requests > 72:\n",
    "            warn('Number of requests was greater than expected.')\n",
    "            break\n",
    "\n",
    "        # Parse the content of the request with BeautifulSoup\n",
    "        page_html = BeautifulSoup(response.text, 'html.parser')\n",
    "\n",
    "        # Select all the 50 movie containers from a single page\n",
    "        mv_containers = page_html.find_all('div', class_ = 'lister-item mode-advanced')\n",
    "\n",
    "        # For every movie of these 50\n",
    "        for container in mv_containers:\n",
    "            # If the movie has a Metascore, then:\n",
    "            if container.find('div', class_ = 'ratings-metascore') is not None:\n",
    "\n",
    "                # Scrape the name\n",
    "                name = container.h3.a.text\n",
    "                names.append(name)\n",
    "\n",
    "                # Scrape the year\n",
    "                year = container.h3.find('span', class_ = 'lister-item-year').text\n",
    "                years.append(year)\n",
    "\n",
    "                # Scrape the IMDB rating\n",
    "                imdb = float(container.strong.text)\n",
    "                imdb_ratings.append(imdb)\n",
    "\n",
    "                # Scrape the Metascore\n",
    "                m_score = container.find('span', class_ = 'metascore').text\n",
    "                metascores.append(int(m_score))\n",
    "\n",
    "                # Scrape the number of votes\n",
    "                vote = container.find('span', attrs = {'name':'nv'})['data-value']\n",
    "                votes.append(int(vote))"
   ]
  },
  {
   "cell_type": "code",
   "execution_count": 99,
   "metadata": {},
   "outputs": [
    {
     "name": "stdout",
     "output_type": "stream",
     "text": [
      "<class 'pandas.core.frame.DataFrame'>\n",
      "RangeIndex: 3296 entries, 0 to 3295\n",
      "Data columns (total 5 columns):\n",
      "movie        3296 non-null object\n",
      "year         3296 non-null object\n",
      "imdb         3296 non-null float64\n",
      "metascore    3296 non-null int64\n",
      "votes        3296 non-null int64\n",
      "dtypes: float64(1), int64(2), object(2)\n",
      "memory usage: 128.8+ KB\n",
      "None\n"
     ]
    },
    {
     "data": {
      "text/html": [
       "<div>\n",
       "<style scoped>\n",
       "    .dataframe tbody tr th:only-of-type {\n",
       "        vertical-align: middle;\n",
       "    }\n",
       "\n",
       "    .dataframe tbody tr th {\n",
       "        vertical-align: top;\n",
       "    }\n",
       "\n",
       "    .dataframe thead th {\n",
       "        text-align: right;\n",
       "    }\n",
       "</style>\n",
       "<table border=\"1\" class=\"dataframe\">\n",
       "  <thead>\n",
       "    <tr style=\"text-align: right;\">\n",
       "      <th></th>\n",
       "      <th>movie</th>\n",
       "      <th>year</th>\n",
       "      <th>imdb</th>\n",
       "      <th>metascore</th>\n",
       "      <th>votes</th>\n",
       "    </tr>\n",
       "  </thead>\n",
       "  <tbody>\n",
       "    <tr>\n",
       "      <th>0</th>\n",
       "      <td>Gladiator</td>\n",
       "      <td>(2000)</td>\n",
       "      <td>8.5</td>\n",
       "      <td>67</td>\n",
       "      <td>1200311</td>\n",
       "    </tr>\n",
       "    <tr>\n",
       "      <th>1</th>\n",
       "      <td>Memento</td>\n",
       "      <td>(2000)</td>\n",
       "      <td>8.5</td>\n",
       "      <td>80</td>\n",
       "      <td>1022854</td>\n",
       "    </tr>\n",
       "    <tr>\n",
       "      <th>2</th>\n",
       "      <td>Snatch</td>\n",
       "      <td>(2000)</td>\n",
       "      <td>8.3</td>\n",
       "      <td>55</td>\n",
       "      <td>712812</td>\n",
       "    </tr>\n",
       "    <tr>\n",
       "      <th>3</th>\n",
       "      <td>Requiem for a Dream</td>\n",
       "      <td>(2000)</td>\n",
       "      <td>8.3</td>\n",
       "      <td>68</td>\n",
       "      <td>694359</td>\n",
       "    </tr>\n",
       "    <tr>\n",
       "      <th>4</th>\n",
       "      <td>X-Men</td>\n",
       "      <td>(2000)</td>\n",
       "      <td>7.4</td>\n",
       "      <td>64</td>\n",
       "      <td>531404</td>\n",
       "    </tr>\n",
       "    <tr>\n",
       "      <th>5</th>\n",
       "      <td>Cast Away</td>\n",
       "      <td>(2000)</td>\n",
       "      <td>7.8</td>\n",
       "      <td>73</td>\n",
       "      <td>469582</td>\n",
       "    </tr>\n",
       "    <tr>\n",
       "      <th>6</th>\n",
       "      <td>American Psycho</td>\n",
       "      <td>(2000)</td>\n",
       "      <td>7.6</td>\n",
       "      <td>64</td>\n",
       "      <td>427630</td>\n",
       "    </tr>\n",
       "    <tr>\n",
       "      <th>7</th>\n",
       "      <td>Unbreakable</td>\n",
       "      <td>(2000)</td>\n",
       "      <td>7.3</td>\n",
       "      <td>62</td>\n",
       "      <td>345558</td>\n",
       "    </tr>\n",
       "    <tr>\n",
       "      <th>8</th>\n",
       "      <td>Meet the Parents</td>\n",
       "      <td>(2000)</td>\n",
       "      <td>7.0</td>\n",
       "      <td>73</td>\n",
       "      <td>291917</td>\n",
       "    </tr>\n",
       "    <tr>\n",
       "      <th>9</th>\n",
       "      <td>Mission: Impossible II</td>\n",
       "      <td>(2000)</td>\n",
       "      <td>6.1</td>\n",
       "      <td>59</td>\n",
       "      <td>289061</td>\n",
       "    </tr>\n",
       "  </tbody>\n",
       "</table>\n",
       "</div>"
      ],
      "text/plain": [
       "                    movie    year  imdb  metascore    votes\n",
       "0               Gladiator  (2000)   8.5         67  1200311\n",
       "1                 Memento  (2000)   8.5         80  1022854\n",
       "2                  Snatch  (2000)   8.3         55   712812\n",
       "3     Requiem for a Dream  (2000)   8.3         68   694359\n",
       "4                   X-Men  (2000)   7.4         64   531404\n",
       "5               Cast Away  (2000)   7.8         73   469582\n",
       "6         American Psycho  (2000)   7.6         64   427630\n",
       "7             Unbreakable  (2000)   7.3         62   345558\n",
       "8        Meet the Parents  (2000)   7.0         73   291917\n",
       "9  Mission: Impossible II  (2000)   6.1         59   289061"
      ]
     },
     "execution_count": 99,
     "metadata": {},
     "output_type": "execute_result"
    }
   ],
   "source": [
    "movie_ratings = pd.DataFrame({'movie': names,\n",
    "                              'year': years,\n",
    "                              'imdb': imdb_ratings,\n",
    "                              'metascore': metascores,\n",
    "                              'votes': votes\n",
    "})\n",
    "print(movie_ratings.info())\n",
    "movie_ratings.head(10)"
   ]
  },
  {
   "cell_type": "code",
   "execution_count": 107,
   "metadata": {},
   "outputs": [
    {
     "data": {
      "image/png": "[encoded data removed]",
      "text/plain": [
       "<Figure size 1152x288 with 3 Axes>"
      ]
     },
     "metadata": {
      "needs_background": "light"
     },
     "output_type": "display_data"
    }
   ],
   "source": [
    "import matplotlib.pyplot as plt\n",
    "\n",
    "\n",
    "fig, axes = plt.subplots(nrows = 1, ncols = 3, figsize = (16,4))\n",
    "ax1, ax2, ax3 = fig.axes\n",
    "\n",
    "ax1.hist(movie_ratings['imdb'], bins = 10, range = (0,10)) # bin range = 1\n",
    "ax1.set_title('IMDB rating')\n",
    "\n",
    "ax2.hist(movie_ratings['metascore'], bins = 10, range = (0,100)) # bin range = 10\n",
    "ax2.set_title('Metascore')\n",
    "\n",
    "ax3.hist(movie_ratings['imdb'], bins = 10, range = (0,100), histtype = 'step')\n",
    "ax3.hist(movie_ratings['metascore'], bins = 10, range = (0,100), histtype = 'step')\n",
    "ax3.legend(loc = 'upper left')\n",
    "ax3.set_title('The Two Normalized Distributions')\n",
    "\n",
    "for ax in fig.axes:\n",
    "    ax.spines['top'].set_visible(False)\n",
    "    ax.spines['right'].set_visible(False)\n",
    "\n",
    "plt.show()"
   ]
  },
  {
   "cell_type": "code",
   "execution_count": null,
   "metadata": {},
   "outputs": [],
   "source": []
  }
 ],
 "metadata": {
  "kernelspec": {
   "display_name": "Python 3",
   "language": "python",
   "name": "python3"
  },
  "language_info": {
   "codemirror_mode": {
    "name": "ipython",
    "version": 3
   },
   "file_extension": ".py",
   "mimetype": "text/x-python",
   "name": "python",
   "nbconvert_exporter": "python",
   "pygments_lexer": "ipython3",
   "version": "3.7.0"
  }
 },
 "nbformat": 4,
 "nbformat_minor": 2
}
